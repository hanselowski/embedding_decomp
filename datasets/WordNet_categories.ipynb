{
 "cells": [
  {
   "cell_type": "code",
   "execution_count": 1,
   "metadata": {},
   "outputs": [
    {
     "data": {
      "text/plain": [
       "[Synset('dog.n.01'),\n",
       " Synset('frump.n.01'),\n",
       " Synset('dog.n.03'),\n",
       " Synset('cad.n.01'),\n",
       " Synset('frank.n.02'),\n",
       " Synset('pawl.n.01'),\n",
       " Synset('andiron.n.01'),\n",
       " Synset('chase.v.01')]"
      ]
     },
     "execution_count": 1,
     "metadata": {},
     "output_type": "execute_result"
    }
   ],
   "source": [
    "from nltk.corpus import wordnet as wn\n",
    "wn.synsets('dog') # doctest: +ELLIPSIS +NORMALIZE_WHITESPACE\n",
    "wn.synsets('dog', pos=wn.VERB)"
   ]
  },
  {
   "cell_type": "code",
   "execution_count": 2,
   "metadata": {},
   "outputs": [
    {
     "data": {
      "text/plain": [
       "[Lemma('dog.n.01.dog'),\n",
       " Lemma('dog.n.01.domestic_dog'),\n",
       " Lemma('dog.n.01.Canis_familiaris')]"
      ]
     },
     "execution_count": 2,
     "metadata": {},
     "output_type": "execute_result"
    }
   ],
   "source": [
    "wn.synset('dog.n.01').lemmas()"
   ]
  },
  {
   "cell_type": "code",
   "execution_count": 6,
   "metadata": {},
   "outputs": [
    {
     "data": {
      "text/plain": [
       "[Lemma('bad.a.01.bad')]"
      ]
     },
     "execution_count": 6,
     "metadata": {},
     "output_type": "execute_result"
    }
   ],
   "source": [
    "good = wn.synset('good.a.01')\n",
    "good.lemmas()[0].antonyms()"
   ]
  },
  {
   "cell_type": "code",
   "execution_count": 12,
   "metadata": {},
   "outputs": [
    {
     "data": {
      "text/plain": [
       "[Synset('basenji.n.01'),\n",
       " Synset('corgi.n.01'),\n",
       " Synset('cur.n.01'),\n",
       " Synset('dalmatian.n.02'),\n",
       " Synset('great_pyrenees.n.01'),\n",
       " Synset('griffon.n.02'),\n",
       " Synset('hunting_dog.n.01'),\n",
       " Synset('lapdog.n.01'),\n",
       " Synset('leonberg.n.01'),\n",
       " Synset('mexican_hairless.n.01'),\n",
       " Synset('newfoundland.n.01'),\n",
       " Synset('pooch.n.01'),\n",
       " Synset('poodle.n.01'),\n",
       " Synset('pug.n.01'),\n",
       " Synset('puppy.n.01'),\n",
       " Synset('spitz.n.01'),\n",
       " Synset('toy_dog.n.01'),\n",
       " Synset('working_dog.n.01')]"
      ]
     },
     "execution_count": 12,
     "metadata": {},
     "output_type": "execute_result"
    }
   ],
   "source": [
    "# hyponomy \n",
    "dog = wn.synset('dog.n.01')\n",
    "dog.hypernyms()\n",
    "dog.hyponyms()\n",
    "#dog.member_holonyms()\n",
    "#dog.root_hypernyms()\n",
    "#wn.synset('dog.n.01').lowest_common_hypernyms(wn.synset('cat.n.01'))"
   ]
  },
  {
   "cell_type": "code",
   "execution_count": 15,
   "metadata": {},
   "outputs": [
    {
     "name": "stdout",
     "output_type": "stream",
     "text": [
      "Synset('entity.n.01')\n",
      "Synset('physical_entity.n.01')\n",
      "Synset('abstraction.n.06')\n",
      "Synset('thing.n.12')\n",
      "Synset('object.n.01')\n",
      "Synset('whole.n.02')\n",
      "Synset('congener.n.03')\n",
      "Synset('living_thing.n.01')\n",
      "Synset('organism.n.01')\n",
      "Synset('benthos.n.02')\n"
     ]
    }
   ],
   "source": [
    "for synset in list(wn.all_synsets('n'))[:10]:\n",
    "    print(synset)"
   ]
  },
  {
   "cell_type": "code",
   "execution_count": 24,
   "metadata": {},
   "outputs": [
    {
     "data": {
      "text/plain": [
       "[Synset('man.n.01'),\n",
       " Synset('serviceman.n.01'),\n",
       " Synset('man.n.03'),\n",
       " Synset('homo.n.02'),\n",
       " Synset('man.n.05'),\n",
       " Synset('man.n.06'),\n",
       " Synset('valet.n.01'),\n",
       " Synset('man.n.08'),\n",
       " Synset('man.n.09'),\n",
       " Synset('man.n.10'),\n",
       " Synset('world.n.08'),\n",
       " Synset('man.v.01'),\n",
       " Synset('man.v.02')]"
      ]
     },
     "execution_count": 24,
     "metadata": {},
     "output_type": "execute_result"
    }
   ],
   "source": [
    "wn.synsets('man')\n"
   ]
  },
  {
   "cell_type": "code",
   "execution_count": 26,
   "metadata": {},
   "outputs": [
    {
     "data": {
      "text/plain": [
       "[Synset('adonis.n.01'),\n",
       " Synset('babu.n.01'),\n",
       " Synset('bachelor.n.01'),\n",
       " Synset('bey.n.01'),\n",
       " Synset('black_man.n.01'),\n",
       " Synset('boy.n.02'),\n",
       " Synset('boyfriend.n.01'),\n",
       " Synset('bull.n.02'),\n",
       " Synset('dandy.n.01'),\n",
       " Synset('ejaculator.n.01'),\n",
       " Synset('esquire.n.02'),\n",
       " Synset('eunuch.n.01'),\n",
       " Synset('ex-boyfriend.n.01'),\n",
       " Synset('ex-husband.n.01'),\n",
       " Synset('father-figure.n.01'),\n",
       " Synset('father_figure.n.01'),\n",
       " Synset('fellow.n.06'),\n",
       " Synset('galoot.n.01'),\n",
       " Synset('geezer.n.01'),\n",
       " Synset('gentleman.n.01'),\n",
       " Synset('grass_widower.n.01'),\n",
       " Synset('guy.n.01'),\n",
       " Synset('herr.n.01'),\n",
       " Synset('hooray_henry.n.01'),\n",
       " Synset('housefather.n.01'),\n",
       " Synset('hunk.n.01'),\n",
       " Synset('inamorato.n.01'),\n",
       " Synset('iron_man.n.01'),\n",
       " Synset('ironside.n.01'),\n",
       " Synset('middle-aged_man.n.01'),\n",
       " Synset('monsieur.n.01'),\n",
       " Synset('old_boy.n.01'),\n",
       " Synset('old_man.n.01'),\n",
       " Synset('patriarch.n.02'),\n",
       " Synset('peter_pan.n.01'),\n",
       " Synset('ponce.n.01'),\n",
       " Synset('posseman.n.01'),\n",
       " Synset('senhor.n.01'),\n",
       " Synset('shaver.n.01'),\n",
       " Synset('signor.n.01'),\n",
       " Synset('signore.n.01'),\n",
       " Synset('sir.n.01'),\n",
       " Synset('stiff.n.01'),\n",
       " Synset('stud.n.01'),\n",
       " Synset('tarzan.n.01'),\n",
       " Synset('white_man.n.01'),\n",
       " Synset('widower.n.01'),\n",
       " Synset('womanizer.n.01'),\n",
       " Synset('wonder_boy.n.01'),\n",
       " Synset('yellow_man.n.01'),\n",
       " Synset('young_buck.n.01')]"
      ]
     },
     "execution_count": 26,
     "metadata": {},
     "output_type": "execute_result"
    }
   ],
   "source": [
    "man = wn.synset('man.n.01')\n",
    "man.hyponyms()"
   ]
  },
  {
   "cell_type": "code",
   "execution_count": 32,
   "metadata": {},
   "outputs": [
    {
     "data": {
      "text/plain": [
       "[]"
      ]
     },
     "execution_count": 32,
     "metadata": {},
     "output_type": "execute_result"
    }
   ],
   "source": [
    "animal = wn.synset('animal.s.01')\n",
    "animal.hyponyms()"
   ]
  },
  {
   "cell_type": "code",
   "execution_count": 30,
   "metadata": {},
   "outputs": [
    {
     "data": {
      "text/plain": [
       "[Synset('animal.n.01'), Synset('animal.s.01')]"
      ]
     },
     "execution_count": 30,
     "metadata": {},
     "output_type": "execute_result"
    }
   ],
   "source": [
    "wn.synsets('animal')"
   ]
  },
  {
   "cell_type": "code",
   "execution_count": 33,
   "metadata": {},
   "outputs": [
    {
     "data": {
      "text/plain": [
       "[Synset('person.n.01'), Synset('person.n.02'), Synset('person.n.03')]"
      ]
     },
     "execution_count": 33,
     "metadata": {},
     "output_type": "execute_result"
    }
   ],
   "source": [
    "wn.synsets('person')"
   ]
  },
  {
   "cell_type": "code",
   "execution_count": 34,
   "metadata": {},
   "outputs": [
    {
     "data": {
      "text/plain": [
       "[Synset('abator.n.01'),\n",
       " Synset('abjurer.n.01'),\n",
       " Synset('abomination.n.01'),\n",
       " Synset('abstainer.n.02'),\n",
       " Synset('achiever.n.01'),\n",
       " Synset('acquaintance.n.03'),\n",
       " Synset('acquirer.n.01'),\n",
       " Synset('active.n.03'),\n",
       " Synset('actor.n.02'),\n",
       " Synset('adjudicator.n.01'),\n",
       " Synset('admirer.n.02'),\n",
       " Synset('adoptee.n.01'),\n",
       " Synset('adult.n.01'),\n",
       " Synset('adventurer.n.01'),\n",
       " Synset('adversary.n.01'),\n",
       " Synset('advisee.n.01'),\n",
       " Synset('advocate.n.01'),\n",
       " Synset('affiant.n.01'),\n",
       " Synset('african.n.01'),\n",
       " Synset('agnostic.n.01'),\n",
       " Synset('amateur.n.01'),\n",
       " Synset('amerindian.n.01'),\n",
       " Synset('ancient.n.02'),\n",
       " Synset('anomaly.n.02'),\n",
       " Synset('anti-american.n.01'),\n",
       " Synset('anti.n.01'),\n",
       " Synset('applicant.n.01'),\n",
       " Synset('appointee.n.02'),\n",
       " Synset('appreciator.n.01'),\n",
       " Synset('apprehender.n.02'),\n",
       " Synset('aquarius.n.01'),\n",
       " Synset('archaist.n.01'),\n",
       " Synset('aries.n.01'),\n",
       " Synset('arrogator.n.01'),\n",
       " Synset('assessee.n.01'),\n",
       " Synset('asthmatic.n.01'),\n",
       " Synset('authority.n.02'),\n",
       " Synset('autodidact.n.01'),\n",
       " Synset('baby_boomer.n.01'),\n",
       " Synset('baby_buster.n.01'),\n",
       " Synset('bad_guy.n.01'),\n",
       " Synset('bad_person.n.01'),\n",
       " Synset('baldhead.n.01'),\n",
       " Synset('balker.n.01'),\n",
       " Synset('bather.n.02'),\n",
       " Synset('beard.n.03'),\n",
       " Synset('bedfellow.n.02'),\n",
       " Synset('bereaved.n.01'),\n",
       " Synset('best.n.02'),\n",
       " Synset('birth.n.05'),\n",
       " Synset('biter.n.01'),\n",
       " Synset('black.n.05'),\n",
       " Synset('blogger.n.01'),\n",
       " Synset('blond.n.01'),\n",
       " Synset('bluecoat.n.01'),\n",
       " Synset('bodybuilder.n.01'),\n",
       " Synset('bomber.n.02'),\n",
       " Synset('brunet.n.01'),\n",
       " Synset('bullfighter.n.01'),\n",
       " Synset('buster.n.04'),\n",
       " Synset('cancer.n.02'),\n",
       " Synset('candidate.n.02'),\n",
       " Synset('capitalist.n.02'),\n",
       " Synset('capricorn.n.01'),\n",
       " Synset('captor.n.01'),\n",
       " Synset('case.n.06'),\n",
       " Synset('cashier.n.02'),\n",
       " Synset('celebrant.n.01'),\n",
       " Synset('censor.n.01'),\n",
       " Synset('chameleon.n.01'),\n",
       " Synset('changer.n.01'),\n",
       " Synset('charmer.n.02'),\n",
       " Synset('child.n.03'),\n",
       " Synset('chutzpanik.n.01'),\n",
       " Synset('closer.n.01'),\n",
       " Synset('clumsy_person.n.01'),\n",
       " Synset('collector.n.01'),\n",
       " Synset('color-blind_person.n.01'),\n",
       " Synset('combatant.n.01'),\n",
       " Synset('commoner.n.01'),\n",
       " Synset('communicator.n.01'),\n",
       " Synset('complexifier.n.01'),\n",
       " Synset('compulsive.n.01'),\n",
       " Synset('computer_user.n.01'),\n",
       " Synset('contemplative.n.01'),\n",
       " Synset('contestant.n.01'),\n",
       " Synset('convert.n.01'),\n",
       " Synset('copycat.n.01'),\n",
       " Synset('counter.n.05'),\n",
       " Synset('counterterrorist.n.01'),\n",
       " Synset('coward.n.01'),\n",
       " Synset('crawler.n.02'),\n",
       " Synset('creator.n.02'),\n",
       " Synset('creature.n.02'),\n",
       " Synset('creditor.n.01'),\n",
       " Synset('cripple.n.01'),\n",
       " Synset('dancer.n.02'),\n",
       " Synset('dead_person.n.01'),\n",
       " Synset('deaf_person.n.01'),\n",
       " Synset('debaser.n.01'),\n",
       " Synset('debtor.n.01'),\n",
       " Synset('defecator.n.01'),\n",
       " Synset('delayer.n.01'),\n",
       " Synset('deliverer.n.04'),\n",
       " Synset('demander.n.01'),\n",
       " Synset('dieter.n.01'),\n",
       " Synset('differentiator.n.01'),\n",
       " Synset('disentangler.n.01'),\n",
       " Synset('disputant.n.01'),\n",
       " Synset('dissenter.n.01'),\n",
       " Synset('divider.n.02'),\n",
       " Synset('domestic_partner.n.01'),\n",
       " Synset('double.n.03'),\n",
       " Synset('dresser.n.02'),\n",
       " Synset('dribbler.n.02'),\n",
       " Synset('drug_user.n.01'),\n",
       " Synset('dyslectic.n.01'),\n",
       " Synset('ectomorph.n.01'),\n",
       " Synset('effecter.n.01'),\n",
       " Synset('elizabethan.n.01'),\n",
       " Synset('emotional_person.n.01'),\n",
       " Synset('endomorph.n.01'),\n",
       " Synset('engineer.n.01'),\n",
       " Synset('enjoyer.n.01'),\n",
       " Synset('enrollee.n.01'),\n",
       " Synset('entertainer.n.01'),\n",
       " Synset('ethnic.n.01'),\n",
       " Synset('experimenter.n.02'),\n",
       " Synset('expert.n.01'),\n",
       " Synset('explorer.n.01'),\n",
       " Synset('extrovert.n.01'),\n",
       " Synset('face.n.05'),\n",
       " Synset('faddist.n.01'),\n",
       " Synset('faller.n.02'),\n",
       " Synset('fastener.n.01'),\n",
       " Synset('female.n.02'),\n",
       " Synset('fiduciary.n.01'),\n",
       " Synset('first-rater.n.01'),\n",
       " Synset('follower.n.01'),\n",
       " Synset('free_agent.n.02'),\n",
       " Synset('friend.n.01'),\n",
       " Synset('fugitive.n.01'),\n",
       " Synset('gainer.n.01'),\n",
       " Synset('gainer.n.02'),\n",
       " Synset('gambler.n.01'),\n",
       " Synset('gatekeeper.n.01'),\n",
       " Synset('gatherer.n.01'),\n",
       " Synset('gemini.n.01'),\n",
       " Synset('gentile.n.02'),\n",
       " Synset('good_guy.n.01'),\n",
       " Synset('good_person.n.01'),\n",
       " Synset('granter.n.01'),\n",
       " Synset('greeter.n.01'),\n",
       " Synset('grinner.n.01'),\n",
       " Synset('groaner.n.01'),\n",
       " Synset('grunter.n.01'),\n",
       " Synset('guesser.n.01'),\n",
       " Synset('handicapped_person.n.01'),\n",
       " Synset('hater.n.01'),\n",
       " Synset('heterosexual.n.01'),\n",
       " Synset('homosexual.n.01'),\n",
       " Synset('homunculus.n.02'),\n",
       " Synset('hope.n.04'),\n",
       " Synset('hoper.n.01'),\n",
       " Synset('huddler.n.02'),\n",
       " Synset('hugger.n.01'),\n",
       " Synset('immune.n.01'),\n",
       " Synset('individualist.n.01'),\n",
       " Synset('inhabitant.n.01'),\n",
       " Synset('innocent.n.01'),\n",
       " Synset('insured.n.01'),\n",
       " Synset('intellectual.n.01'),\n",
       " Synset('interpreter.n.02'),\n",
       " Synset('introvert.n.01'),\n",
       " Synset('jat.n.01'),\n",
       " Synset('jew.n.01'),\n",
       " Synset('jewel.n.02'),\n",
       " Synset('jumper.n.01'),\n",
       " Synset('junior.n.03'),\n",
       " Synset('juvenile.n.01'),\n",
       " Synset('killer.n.01'),\n",
       " Synset('kink.n.03'),\n",
       " Synset('kneeler.n.01'),\n",
       " Synset('knocker.n.02'),\n",
       " Synset('knower.n.01'),\n",
       " Synset('large_person.n.01'),\n",
       " Synset('latin.n.03'),\n",
       " Synset('laugher.n.01'),\n",
       " Synset('leader.n.01'),\n",
       " Synset('learner.n.01'),\n",
       " Synset('left-hander.n.02'),\n",
       " Synset('leo.n.01'),\n",
       " Synset('libra.n.01'),\n",
       " Synset('life.n.08'),\n",
       " Synset('lightning_rod.n.01'),\n",
       " Synset('linguist.n.02'),\n",
       " Synset('literate.n.01'),\n",
       " Synset('liver.n.03'),\n",
       " Synset('longer.n.01'),\n",
       " Synset('loose_cannon.n.01'),\n",
       " Synset('loved_one.n.01'),\n",
       " Synset('lover.n.01'),\n",
       " Synset('machine.n.02'),\n",
       " Synset('mailer.n.02'),\n",
       " Synset('malcontent.n.01'),\n",
       " Synset('male.n.02'),\n",
       " Synset('man.n.03'),\n",
       " Synset('man_jack.n.01'),\n",
       " Synset('manipulator.n.02'),\n",
       " Synset('married.n.01'),\n",
       " Synset('masturbator.n.01'),\n",
       " Synset('measurer.n.01'),\n",
       " Synset('mesomorph.n.01'),\n",
       " Synset('mestizo.n.01'),\n",
       " Synset('middlebrow.n.01'),\n",
       " Synset('miracle_man.n.01'),\n",
       " Synset('misogamist.n.01'),\n",
       " Synset('mixed-blood.n.01'),\n",
       " Synset('modern.n.01'),\n",
       " Synset('money_handler.n.01'),\n",
       " Synset('monolingual.n.01'),\n",
       " Synset('mother_hen.n.01'),\n",
       " Synset('mouse.n.03'),\n",
       " Synset('mutilator.n.01'),\n",
       " Synset('namer.n.01'),\n",
       " Synset('namesake.n.01'),\n",
       " Synset('national.n.01'),\n",
       " Synset('native.n.01'),\n",
       " Synset('native.n.02'),\n",
       " Synset('neglecter.n.01'),\n",
       " Synset('neighbor.n.01'),\n",
       " Synset('neutral.n.01'),\n",
       " Synset('nondescript.n.01'),\n",
       " Synset('nonmember.n.01'),\n",
       " Synset('nonparticipant.n.01'),\n",
       " Synset('nonpartisan.n.01'),\n",
       " Synset('nonperson.n.01'),\n",
       " Synset('nonreligious_person.n.01'),\n",
       " Synset('nonresident.n.01'),\n",
       " Synset('nonsmoker.n.01'),\n",
       " Synset('nonworker.n.01'),\n",
       " Synset('nude.n.03'),\n",
       " Synset('nurser.n.01'),\n",
       " Synset('occultist.n.01'),\n",
       " Synset('optimist.n.01'),\n",
       " Synset('orphan.n.02'),\n",
       " Synset('ostrich.n.01'),\n",
       " Synset('ouster.n.01'),\n",
       " Synset('outcaste.n.01'),\n",
       " Synset('outdoorsman.n.01'),\n",
       " Synset('owner.n.02'),\n",
       " Synset('pamperer.n.01'),\n",
       " Synset('pansexual.n.01'),\n",
       " Synset('pardoner.n.01'),\n",
       " Synset('partner.n.03'),\n",
       " Synset('party.n.05'),\n",
       " Synset('passer.n.02'),\n",
       " Synset('peer.n.01'),\n",
       " Synset('perceiver.n.01'),\n",
       " Synset('percher.n.01'),\n",
       " Synset('person_of_color.n.01'),\n",
       " Synset('personage.n.01'),\n",
       " Synset('personification.n.01'),\n",
       " Synset('perspirer.n.01'),\n",
       " Synset('philosopher.n.02'),\n",
       " Synset('picker.n.01'),\n",
       " Synset('pisces.n.02'),\n",
       " Synset('pisser.n.01'),\n",
       " Synset('planner.n.01'),\n",
       " Synset('player.n.04'),\n",
       " Synset('posturer.n.01'),\n",
       " Synset('powderer.n.01'),\n",
       " Synset('precursor.n.02'),\n",
       " Synset('preserver.n.03'),\n",
       " Synset('primitive.n.01'),\n",
       " Synset('propositus.n.01'),\n",
       " Synset('public_relations_person.n.01'),\n",
       " Synset('pursuer.n.02'),\n",
       " Synset('pussycat.n.01'),\n",
       " Synset('quarter.n.11'),\n",
       " Synset('quitter.n.01'),\n",
       " Synset('radical.n.03'),\n",
       " Synset('realist.n.02'),\n",
       " Synset('rectifier.n.02'),\n",
       " Synset('redhead.n.01'),\n",
       " Synset('registrant.n.01'),\n",
       " Synset('relative.n.01'),\n",
       " Synset('reliever.n.02'),\n",
       " Synset('religious_person.n.01'),\n",
       " Synset('repeater.n.01'),\n",
       " Synset('rescuer.n.02'),\n",
       " Synset('rester.n.01'),\n",
       " Synset('restrainer.n.02'),\n",
       " Synset('revenant.n.01'),\n",
       " Synset('rich_person.n.01'),\n",
       " Synset('right-hander.n.02'),\n",
       " Synset('riser.n.01'),\n",
       " Synset('romper.n.01'),\n",
       " Synset('roundhead.n.01'),\n",
       " Synset('ruler.n.01'),\n",
       " Synset('rusher.n.03'),\n",
       " Synset('sagittarius.n.01'),\n",
       " Synset('scientist.n.01'),\n",
       " Synset('scorpio.n.01'),\n",
       " Synset('scratcher.n.02'),\n",
       " Synset('second-rater.n.01'),\n",
       " Synset('seeder.n.01'),\n",
       " Synset('seeker.n.01'),\n",
       " Synset('segregate.n.01'),\n",
       " Synset('self.n.02'),\n",
       " Synset('sensualist.n.01'),\n",
       " Synset('sentimentalist.n.01'),\n",
       " Synset('sex_object.n.01'),\n",
       " Synset('sex_symbol.n.01'),\n",
       " Synset('shaker.n.01'),\n",
       " Synset('showman.n.01'),\n",
       " Synset('signer.n.02'),\n",
       " Synset('simpleton.n.01'),\n",
       " Synset('six-footer.n.01'),\n",
       " Synset('skidder.n.01'),\n",
       " Synset('slav.n.01'),\n",
       " Synset('slave.n.01'),\n",
       " Synset('slave.n.03'),\n",
       " Synset('sleepyhead.n.01'),\n",
       " Synset('sloucher.n.01'),\n",
       " Synset('small_person.n.01'),\n",
       " Synset('smasher.n.01'),\n",
       " Synset('smiler.n.01'),\n",
       " Synset('sneezer.n.01'),\n",
       " Synset('sniffer.n.01'),\n",
       " Synset('sniffler.n.01'),\n",
       " Synset('snuffer.n.02'),\n",
       " Synset('snuffler.n.01'),\n",
       " Synset('socializer.n.01'),\n",
       " Synset('sort.n.03'),\n",
       " Synset('sounding_board.n.01'),\n",
       " Synset('sphinx.n.01'),\n",
       " Synset('spitter.n.01'),\n",
       " Synset('sport.n.04'),\n",
       " Synset('sprawler.n.01'),\n",
       " Synset('spurner.n.01'),\n",
       " Synset('squinter.n.01'),\n",
       " Synset('stifler.n.01'),\n",
       " Synset('stigmatic.n.01'),\n",
       " Synset('stooper.n.02'),\n",
       " Synset('stranger.n.02'),\n",
       " Synset('struggler.n.01'),\n",
       " Synset('subject.n.06'),\n",
       " Synset('supernumerary.n.01'),\n",
       " Synset('surrenderer.n.01'),\n",
       " Synset('survivalist.n.01'),\n",
       " Synset('survivor.n.02'),\n",
       " Synset('suspect.n.01'),\n",
       " Synset('tagger.n.01'),\n",
       " Synset('tagger.n.02'),\n",
       " Synset('tapper.n.02'),\n",
       " Synset('taurus.n.02'),\n",
       " Synset('tempter.n.01'),\n",
       " Synset('termer.n.01'),\n",
       " Synset('terror.n.02'),\n",
       " Synset('testator.n.01'),\n",
       " Synset('thin_person.n.01'),\n",
       " Synset('third-rater.n.01'),\n",
       " Synset('thrower.n.02'),\n",
       " Synset('tiger.n.01'),\n",
       " Synset('totemist.n.01'),\n",
       " Synset('toucher.n.01'),\n",
       " Synset('transfer.n.02'),\n",
       " Synset('transsexual.n.02'),\n",
       " Synset('transvestite.n.01'),\n",
       " Synset('traveler.n.01'),\n",
       " Synset('trier.n.02'),\n",
       " Synset('turner.n.07'),\n",
       " Synset('tyrant.n.03'),\n",
       " Synset('undoer.n.02'),\n",
       " Synset('unfortunate.n.01'),\n",
       " Synset('unskilled_person.n.01'),\n",
       " Synset('unwelcome_person.n.01'),\n",
       " Synset('user.n.01'),\n",
       " Synset('vanisher.n.01'),\n",
       " Synset('victim.n.02'),\n",
       " Synset('victorian.n.01'),\n",
       " Synset('virgo.n.01'),\n",
       " Synset('visionary.n.01'),\n",
       " Synset('visually_impaired_person.n.01'),\n",
       " Synset('waiter.n.02'),\n",
       " Synset('waker.n.02'),\n",
       " Synset('walk-in.n.01'),\n",
       " Synset('wanter.n.01'),\n",
       " Synset('ward.n.01'),\n",
       " Synset('warrior.n.01'),\n",
       " Synset('watcher.n.03'),\n",
       " Synset('weakling.n.01'),\n",
       " Synset('weasel.n.01'),\n",
       " Synset('white.n.01'),\n",
       " Synset('wiggler.n.01'),\n",
       " Synset('winker.n.01'),\n",
       " Synset('withholder.n.01'),\n",
       " Synset('witness.n.05'),\n",
       " Synset('worker.n.01'),\n",
       " Synset('worldling.n.01'),\n",
       " Synset('yawner.n.01')]"
      ]
     },
     "execution_count": 34,
     "metadata": {},
     "output_type": "execute_result"
    }
   ],
   "source": [
    "# good\n",
    "animal = wn.synset('person.n.01')\n",
    "animal.hyponyms()"
   ]
  },
  {
   "cell_type": "code",
   "execution_count": 36,
   "metadata": {},
   "outputs": [
    {
     "data": {
      "text/plain": [
       "[Synset('adult.n.01'),\n",
       " Synset('adult.n.02'),\n",
       " Synset('adult.s.01'),\n",
       " Synset('pornographic.s.01')]"
      ]
     },
     "execution_count": 36,
     "metadata": {},
     "output_type": "execute_result"
    }
   ],
   "source": [
    "wn.synsets('adult')"
   ]
  },
  {
   "cell_type": "code",
   "execution_count": 37,
   "metadata": {},
   "outputs": [
    {
     "data": {
      "text/plain": [
       "[Synset('brachycephalic.n.01'),\n",
       " Synset('caregiver.n.02'),\n",
       " Synset('catch.n.03'),\n",
       " Synset('centrist.n.01'),\n",
       " Synset('character.n.05'),\n",
       " Synset('conservative.n.01'),\n",
       " Synset('dolichocephalic.n.01'),\n",
       " Synset('elder.n.01'),\n",
       " Synset('ex-spouse.n.01'),\n",
       " Synset('host.n.01'),\n",
       " Synset('important_person.n.01'),\n",
       " Synset('jack_of_all_trades.n.01'),\n",
       " Synset('liberal.n.01'),\n",
       " Synset('liberal.n.02'),\n",
       " Synset('man.n.01'),\n",
       " Synset('militarist.n.01'),\n",
       " Synset('oldster.n.01'),\n",
       " Synset('pacifist.n.01'),\n",
       " Synset('patrician.n.01'),\n",
       " Synset('pledgee.n.01'),\n",
       " Synset('pledger.n.01'),\n",
       " Synset('professional.n.01'),\n",
       " Synset('sobersides.n.01'),\n",
       " Synset('sophisticate.n.01'),\n",
       " Synset('stay-at-home.n.01'),\n",
       " Synset('stoic.n.02'),\n",
       " Synset('thoroughbred.n.01'),\n",
       " Synset('woman.n.01')]"
      ]
     },
     "execution_count": 37,
     "metadata": {},
     "output_type": "execute_result"
    }
   ],
   "source": [
    "animal = wn.synset('adult.n.01')\n",
    "animal.hyponyms()"
   ]
  },
  {
   "cell_type": "code",
   "execution_count": 38,
   "metadata": {},
   "outputs": [
    {
     "data": {
      "text/plain": [
       "[Synset('woman.n.01'),\n",
       " Synset('woman.n.02'),\n",
       " Synset('charwoman.n.01'),\n",
       " Synset('womanhood.n.02')]"
      ]
     },
     "execution_count": 38,
     "metadata": {},
     "output_type": "execute_result"
    }
   ],
   "source": [
    "wn.synsets('woman')"
   ]
  },
  {
   "cell_type": "code",
   "execution_count": 39,
   "metadata": {},
   "outputs": [
    {
     "data": {
      "text/plain": [
       "[Synset('amazon.n.01'),\n",
       " Synset('b-girl.n.01'),\n",
       " Synset('bachelor_girl.n.01'),\n",
       " Synset('baggage.n.02'),\n",
       " Synset('ball-buster.n.01'),\n",
       " Synset('black_woman.n.01'),\n",
       " Synset('bluestocking.n.01'),\n",
       " Synset('bridesmaid.n.01'),\n",
       " Synset('broad.n.01'),\n",
       " Synset('cat.n.03'),\n",
       " Synset('cinderella.n.01'),\n",
       " Synset('coquette.n.01'),\n",
       " Synset('dame.n.02'),\n",
       " Synset('debutante.n.01'),\n",
       " Synset('divorcee.n.01'),\n",
       " Synset('dominatrix.n.01'),\n",
       " Synset('donna.n.01'),\n",
       " Synset('enchantress.n.01'),\n",
       " Synset('ex-wife.n.01'),\n",
       " Synset('eyeful.n.01'),\n",
       " Synset('geisha.n.01'),\n",
       " Synset('girl.n.01'),\n",
       " Synset('girl.n.05'),\n",
       " Synset('girlfriend.n.01'),\n",
       " Synset('girlfriend.n.02'),\n",
       " Synset('gold_digger.n.02'),\n",
       " Synset('gravida.n.02'),\n",
       " Synset('heroine.n.02'),\n",
       " Synset('inamorata.n.01'),\n",
       " Synset('jezebel.n.02'),\n",
       " Synset('jilt.n.01'),\n",
       " Synset('lady.n.01'),\n",
       " Synset('maenad.n.01'),\n",
       " Synset('maenad.n.02'),\n",
       " Synset('matriarch.n.01'),\n",
       " Synset('matriarch.n.02'),\n",
       " Synset('matron.n.03'),\n",
       " Synset('mestiza.n.01'),\n",
       " Synset('mistress.n.01'),\n",
       " Synset('mother_figure.n.01'),\n",
       " Synset('nanny.n.01'),\n",
       " Synset('nullipara.n.01'),\n",
       " Synset('nymph.n.03'),\n",
       " Synset('nymphet.n.01'),\n",
       " Synset('old_woman.n.01'),\n",
       " Synset('prostitute.n.01'),\n",
       " Synset('shiksa.n.01'),\n",
       " Synset('smasher.n.02'),\n",
       " Synset('sylph.n.01'),\n",
       " Synset('unmarried_woman.n.01'),\n",
       " Synset('vestal.n.01'),\n",
       " Synset('wac.n.01'),\n",
       " Synset('wave.n.09'),\n",
       " Synset('white_woman.n.01'),\n",
       " Synset('widow.n.01'),\n",
       " Synset('wife.n.01'),\n",
       " Synset('wonder_woman.n.01'),\n",
       " Synset('yellow_woman.n.01')]"
      ]
     },
     "execution_count": 39,
     "metadata": {},
     "output_type": "execute_result"
    }
   ],
   "source": [
    "# good \n",
    "animal = wn.synset('woman.n.01')\n",
    "animal.hyponyms()"
   ]
  },
  {
   "cell_type": "code",
   "execution_count": 40,
   "metadata": {},
   "outputs": [
    {
     "data": {
      "text/plain": [
       "[Synset('adonis.n.01'),\n",
       " Synset('babu.n.01'),\n",
       " Synset('bachelor.n.01'),\n",
       " Synset('bey.n.01'),\n",
       " Synset('black_man.n.01'),\n",
       " Synset('boy.n.02'),\n",
       " Synset('boyfriend.n.01'),\n",
       " Synset('bull.n.02'),\n",
       " Synset('dandy.n.01'),\n",
       " Synset('ejaculator.n.01'),\n",
       " Synset('esquire.n.02'),\n",
       " Synset('eunuch.n.01'),\n",
       " Synset('ex-boyfriend.n.01'),\n",
       " Synset('ex-husband.n.01'),\n",
       " Synset('father-figure.n.01'),\n",
       " Synset('father_figure.n.01'),\n",
       " Synset('fellow.n.06'),\n",
       " Synset('galoot.n.01'),\n",
       " Synset('geezer.n.01'),\n",
       " Synset('gentleman.n.01'),\n",
       " Synset('grass_widower.n.01'),\n",
       " Synset('guy.n.01'),\n",
       " Synset('herr.n.01'),\n",
       " Synset('hooray_henry.n.01'),\n",
       " Synset('housefather.n.01'),\n",
       " Synset('hunk.n.01'),\n",
       " Synset('inamorato.n.01'),\n",
       " Synset('iron_man.n.01'),\n",
       " Synset('ironside.n.01'),\n",
       " Synset('middle-aged_man.n.01'),\n",
       " Synset('monsieur.n.01'),\n",
       " Synset('old_boy.n.01'),\n",
       " Synset('old_man.n.01'),\n",
       " Synset('patriarch.n.02'),\n",
       " Synset('peter_pan.n.01'),\n",
       " Synset('ponce.n.01'),\n",
       " Synset('posseman.n.01'),\n",
       " Synset('senhor.n.01'),\n",
       " Synset('shaver.n.01'),\n",
       " Synset('signor.n.01'),\n",
       " Synset('signore.n.01'),\n",
       " Synset('sir.n.01'),\n",
       " Synset('stiff.n.01'),\n",
       " Synset('stud.n.01'),\n",
       " Synset('tarzan.n.01'),\n",
       " Synset('white_man.n.01'),\n",
       " Synset('widower.n.01'),\n",
       " Synset('womanizer.n.01'),\n",
       " Synset('wonder_boy.n.01'),\n",
       " Synset('yellow_man.n.01'),\n",
       " Synset('young_buck.n.01')]"
      ]
     },
     "execution_count": 40,
     "metadata": {},
     "output_type": "execute_result"
    }
   ],
   "source": [
    "# good \n",
    "animal = wn.synset('man.n.01')\n",
    "animal.hyponyms()"
   ]
  },
  {
   "cell_type": "code",
   "execution_count": 56,
   "metadata": {},
   "outputs": [
    {
     "data": {
      "text/plain": [
       "[Synset('basenji.n.01'),\n",
       " Synset('corgi.n.01'),\n",
       " Synset('cur.n.01'),\n",
       " Synset('dalmatian.n.02'),\n",
       " Synset('great_pyrenees.n.01'),\n",
       " Synset('griffon.n.02'),\n",
       " Synset('hunting_dog.n.01'),\n",
       " Synset('lapdog.n.01'),\n",
       " Synset('leonberg.n.01'),\n",
       " Synset('mexican_hairless.n.01'),\n",
       " Synset('newfoundland.n.01'),\n",
       " Synset('pooch.n.01'),\n",
       " Synset('poodle.n.01'),\n",
       " Synset('pug.n.01'),\n",
       " Synset('puppy.n.01'),\n",
       " Synset('spitz.n.01'),\n",
       " Synset('toy_dog.n.01'),\n",
       " Synset('working_dog.n.01')]"
      ]
     },
     "execution_count": 56,
     "metadata": {},
     "output_type": "execute_result"
    }
   ],
   "source": [
    "# ok \n",
    "animal = wn.synset('dog.n.01')\n",
    "animal.hyponyms()"
   ]
  },
  {
   "cell_type": "code",
   "execution_count": 59,
   "metadata": {},
   "outputs": [
    {
     "data": {
      "text/plain": [
       "[Synset('cougar.n.01'),\n",
       " Synset('european_wildcat.n.01'),\n",
       " Synset('jaguarundi.n.01'),\n",
       " Synset('jungle_cat.n.01'),\n",
       " Synset('kaffir_cat.n.01'),\n",
       " Synset('leopard_cat.n.01'),\n",
       " Synset('lynx.n.02'),\n",
       " Synset('manul.n.01'),\n",
       " Synset('margay.n.01'),\n",
       " Synset('ocelot.n.01'),\n",
       " Synset('sand_cat.n.01'),\n",
       " Synset('serval.n.01'),\n",
       " Synset('tiger_cat.n.01')]"
      ]
     },
     "execution_count": 59,
     "metadata": {},
     "output_type": "execute_result"
    }
   ],
   "source": [
    "# ok \n",
    "animal = wn.synset('wildcat.n.03')\n",
    "animal.hyponyms()"
   ]
  },
  {
   "cell_type": "code",
   "execution_count": 64,
   "metadata": {},
   "outputs": [
    {
     "data": {
      "text/plain": [
       "[Synset('acerola.n.02'),\n",
       " Synset('bilberry.n.03'),\n",
       " Synset('blackberry.n.01'),\n",
       " Synset('blueberry.n.02'),\n",
       " Synset('boysenberry.n.02'),\n",
       " Synset('cranberry.n.02'),\n",
       " Synset('currant.n.01'),\n",
       " Synset('dewberry.n.02'),\n",
       " Synset('huckleberry.n.03'),\n",
       " Synset('lingonberry.n.02'),\n",
       " Synset('loganberry.n.02'),\n",
       " Synset('mulberry.n.02'),\n",
       " Synset('persimmon.n.02'),\n",
       " Synset('raspberry.n.02'),\n",
       " Synset('saskatoon.n.02'),\n",
       " Synset('strawberry.n.01'),\n",
       " Synset('sugarberry.n.02'),\n",
       " Synset('wintergreen.n.03')]"
      ]
     },
     "execution_count": 64,
     "metadata": {},
     "output_type": "execute_result"
    }
   ],
   "source": [
    "concept = wn.synset('berry.n.01')\n",
    "concept.hyponyms()\n",
    "\n",
    "# fruits\n",
    "# plants\n",
    "# mothes"
   ]
  },
  {
   "cell_type": "code",
   "execution_count": 67,
   "metadata": {},
   "outputs": [
    {
     "data": {
      "text/plain": [
       "[Synset('april.n.01'),\n",
       " Synset('august.n.01'),\n",
       " Synset('december.n.01'),\n",
       " Synset('february.n.01'),\n",
       " Synset('january.n.01'),\n",
       " Synset('july.n.01'),\n",
       " Synset('june.n.01'),\n",
       " Synset('march.n.01'),\n",
       " Synset('may.n.01'),\n",
       " Synset('november.n.01'),\n",
       " Synset('october.n.01'),\n",
       " Synset('september.n.01')]"
      ]
     },
     "execution_count": 67,
     "metadata": {},
     "output_type": "execute_result"
    }
   ],
   "source": [
    "concept = wn.synset('gregorian_calendar_month.n.01')\n",
    "concept.hyponyms()"
   ]
  },
  {
   "cell_type": "code",
   "execution_count": 84,
   "metadata": {},
   "outputs": [
    {
     "data": {
      "text/plain": [
       "[Synset('ackee.n.01'),\n",
       " Synset('anchovy_pear.n.02'),\n",
       " Synset('apple.n.01'),\n",
       " Synset('apricot.n.02'),\n",
       " Synset('avocado.n.01'),\n",
       " Synset('banana.n.02'),\n",
       " Synset('barbados_gooseberry.n.02'),\n",
       " Synset('berry.n.01'),\n",
       " Synset('breadfruit.n.02'),\n",
       " Synset('canistel.n.02'),\n",
       " Synset('carambola.n.02'),\n",
       " Synset('carissa_plum.n.01'),\n",
       " Synset('ceriman.n.02'),\n",
       " Synset('cherry.n.03'),\n",
       " Synset('citrus.n.01'),\n",
       " Synset('cling.n.01'),\n",
       " Synset('cocoa_plum.n.02'),\n",
       " Synset('custard_apple.n.02'),\n",
       " Synset('date.n.08'),\n",
       " Synset('dried_fruit.n.01'),\n",
       " Synset('durian.n.02'),\n",
       " Synset('elderberry.n.02'),\n",
       " Synset('feijoa.n.02'),\n",
       " Synset('fig.n.04'),\n",
       " Synset('freestone.n.01'),\n",
       " Synset('garambulla.n.02'),\n",
       " Synset('genip.n.02'),\n",
       " Synset('genipap.n.01'),\n",
       " Synset('grape.n.01'),\n",
       " Synset('guava.n.03'),\n",
       " Synset('hog_plum.n.03'),\n",
       " Synset('hog_plum.n.04'),\n",
       " Synset('jaboticaba.n.02'),\n",
       " Synset('jackfruit.n.02'),\n",
       " Synset('jujube.n.02'),\n",
       " Synset('kai_apple.n.01'),\n",
       " Synset('ketembilla.n.02'),\n",
       " Synset('kiwi.n.03'),\n",
       " Synset('lanseh.n.01'),\n",
       " Synset('litchi.n.02'),\n",
       " Synset('longanberry.n.02'),\n",
       " Synset('loquat.n.02'),\n",
       " Synset('mamey.n.02'),\n",
       " Synset('mango.n.02'),\n",
       " Synset('mangosteen.n.02'),\n",
       " Synset('marang.n.02'),\n",
       " Synset('medlar.n.03'),\n",
       " Synset('medlar.n.04'),\n",
       " Synset('melon.n.01'),\n",
       " Synset('mombin.n.02'),\n",
       " Synset('nectarine.n.02'),\n",
       " Synset('papaw.n.02'),\n",
       " Synset('papaya.n.02'),\n",
       " Synset('passion_fruit.n.01'),\n",
       " Synset('peach.n.03'),\n",
       " Synset('pear.n.01'),\n",
       " Synset('pineapple.n.02'),\n",
       " Synset('pitahaya.n.02'),\n",
       " Synset('plum.n.02'),\n",
       " Synset('plumcot.n.02'),\n",
       " Synset('pomegranate.n.02'),\n",
       " Synset('prickly_pear.n.02'),\n",
       " Synset('pulasan.n.02'),\n",
       " Synset('quandong.n.04'),\n",
       " Synset('quince.n.02'),\n",
       " Synset('rambutan.n.02'),\n",
       " Synset('rose_apple.n.02'),\n",
       " Synset('sapodilla.n.02'),\n",
       " Synset('sapote.n.02'),\n",
       " Synset('sorb.n.01'),\n",
       " Synset('sour_gourd.n.02'),\n",
       " Synset('sour_gourd.n.03'),\n",
       " Synset('tamarind.n.02'),\n",
       " Synset('tangelo.n.02'),\n",
       " Synset('windfall.n.01')]"
      ]
     },
     "execution_count": 84,
     "metadata": {},
     "output_type": "execute_result"
    }
   ],
   "source": [
    "# good\n",
    "concept = wn.synset('edible_fruit.n.01')\n",
    "concept.hyponyms()"
   ]
  },
  {
   "cell_type": "code",
   "execution_count": 77,
   "metadata": {},
   "outputs": [
    {
     "data": {
      "text/plain": [
       "[Synset('planet.n.01'), Synset('satellite.n.02'), Synset('planet.n.03')]"
      ]
     },
     "execution_count": 77,
     "metadata": {},
     "output_type": "execute_result"
    }
   ],
   "source": [
    "wn.synsets('planet')"
   ]
  },
  {
   "cell_type": "code",
   "execution_count": 101,
   "metadata": {},
   "outputs": [
    {
     "data": {
      "text/plain": [
       "[Synset('abdomen.n.01'),\n",
       " Synset('adnexa.n.01'),\n",
       " Synset('ambulacrum.n.01'),\n",
       " Synset('ampulla.n.01'),\n",
       " Synset('apparatus.n.02'),\n",
       " Synset('area.n.03'),\n",
       " Synset('back.n.01'),\n",
       " Synset('buttock.n.01'),\n",
       " Synset('buttocks.n.01'),\n",
       " Synset('cannon.n.05'),\n",
       " Synset('dilator.n.01'),\n",
       " Synset('dock.n.06'),\n",
       " Synset('dorsum.n.02'),\n",
       " Synset('energid.n.01'),\n",
       " Synset('external_body_part.n.01'),\n",
       " Synset('feature.n.02'),\n",
       " Synset('flank.n.04'),\n",
       " Synset('fornix.n.01'),\n",
       " Synset('gaskin.n.01'),\n",
       " Synset('groove.n.03'),\n",
       " Synset('haunch.n.01'),\n",
       " Synset('hindquarters.n.02'),\n",
       " Synset('hip.n.01'),\n",
       " Synset('horseback.n.01'),\n",
       " Synset('joint.n.01'),\n",
       " Synset('lobe.n.01'),\n",
       " Synset('loin.n.02'),\n",
       " Synset('loins.n.02'),\n",
       " Synset('mentum.n.03'),\n",
       " Synset('organ.n.01'),\n",
       " Synset('partition.n.03'),\n",
       " Synset('process.n.05'),\n",
       " Synset('rectum.n.01'),\n",
       " Synset('rudiment.n.02'),\n",
       " Synset('saddle.n.06'),\n",
       " Synset('shank.n.02'),\n",
       " Synset('shin.n.01'),\n",
       " Synset('shoulder.n.01'),\n",
       " Synset('small.n.01'),\n",
       " Synset('structure.n.04'),\n",
       " Synset('stump.n.02'),\n",
       " Synset('system.n.06'),\n",
       " Synset('thorax.n.01'),\n",
       " Synset('thorax.n.02'),\n",
       " Synset('thorax.n.03'),\n",
       " Synset('tissue.n.01'),\n",
       " Synset('toe.n.03'),\n",
       " Synset('torso.n.01'),\n",
       " Synset('underpart.n.01'),\n",
       " Synset('venter.n.04'),\n",
       " Synset('withers.n.01')]"
      ]
     },
     "execution_count": 101,
     "metadata": {},
     "output_type": "execute_result"
    }
   ],
   "source": [
    "# good\n",
    "concept = wn.synset('body_part.n.01')\n",
    "concept.hyponyms()"
   ]
  },
  {
   "cell_type": "code",
   "execution_count": 94,
   "metadata": {},
   "outputs": [
    {
     "data": {
      "text/plain": [
       "[Synset('clergyman.n.01'), Synset('holy_order.n.01')]"
      ]
     },
     "execution_count": 94,
     "metadata": {},
     "output_type": "execute_result"
    }
   ],
   "source": [
    "concept = wn.synset('priest.n.01')\n",
    "concept.hypernyms()"
   ]
  },
  {
   "cell_type": "code",
   "execution_count": 103,
   "metadata": {},
   "outputs": [
    {
     "data": {
      "text/plain": [
       "[Synset('awl.n.01'),\n",
       " Synset('bevel.n.02'),\n",
       " Synset('bodkin.n.03'),\n",
       " Synset('bodkin.n.04'),\n",
       " Synset('crank.n.04'),\n",
       " Synset('dibble.n.01'),\n",
       " Synset('file.n.04'),\n",
       " Synset('float.n.05'),\n",
       " Synset('graver.n.01'),\n",
       " Synset('gutter.n.04'),\n",
       " Synset('hammer.n.02'),\n",
       " Synset('hand_shovel.n.01'),\n",
       " Synset('marlinespike.n.01'),\n",
       " Synset('miter_box.n.01'),\n",
       " Synset('opener.n.03'),\n",
       " Synset('pallet.n.03'),\n",
       " Synset('pestle.n.03'),\n",
       " Synset('pick.n.06'),\n",
       " Synset('pincer.n.01'),\n",
       " Synset('pipe_cutter.n.01'),\n",
       " Synset('pitchfork.n.01'),\n",
       " Synset('plane.n.05'),\n",
       " Synset('pliers.n.01'),\n",
       " Synset('plumber's_snake.n.01'),\n",
       " Synset('plunger.n.03'),\n",
       " Synset('ravehook.n.01'),\n",
       " Synset('sandblaster.n.01'),\n",
       " Synset('saw.n.02'),\n",
       " Synset('scraper.n.01'),\n",
       " Synset('screwdriver.n.01'),\n",
       " Synset('shovel.n.01'),\n",
       " Synset('soldering_iron.n.01'),\n",
       " Synset('spatula.n.02'),\n",
       " Synset('spreader.n.01'),\n",
       " Synset('square.n.08'),\n",
       " Synset('straightedge.n.01'),\n",
       " Synset('tire_iron.n.01'),\n",
       " Synset('trowel.n.01'),\n",
       " Synset('weeder.n.02'),\n",
       " Synset('wire_stripper.n.01'),\n",
       " Synset('wrench.n.03')]"
      ]
     },
     "execution_count": 103,
     "metadata": {},
     "output_type": "execute_result"
    }
   ],
   "source": [
    "# good \n",
    "concept = wn.synset('hand_tool.n.01')\n",
    "concept.hyponyms()"
   ]
  },
  {
   "cell_type": "code",
   "execution_count": 105,
   "metadata": {},
   "outputs": [
    {
     "data": {
      "text/plain": [
       "[Synset('human_body.n.01'), Synset('life_form.n.01'), Synset('live_body.n.01')]"
      ]
     },
     "execution_count": 105,
     "metadata": {},
     "output_type": "execute_result"
    }
   ],
   "source": [
    "concept = wn.synset('body.n.01')\n",
    "concept.hyponyms()"
   ]
  },
  {
   "cell_type": "code",
   "execution_count": 109,
   "metadata": {},
   "outputs": [
    {
     "data": {
      "text/plain": [
       "[Synset('ark.n.02'),\n",
       " Synset('barge.n.01'),\n",
       " Synset('bumboat.n.01'),\n",
       " Synset('canal_boat.n.01'),\n",
       " Synset('ferry.n.01'),\n",
       " Synset('fireboat.n.01'),\n",
       " Synset('gondola.n.02'),\n",
       " Synset('guard_boat.n.01'),\n",
       " Synset('gunboat.n.01'),\n",
       " Synset('junk.n.02'),\n",
       " Synset('longboat.n.01'),\n",
       " Synset('lugger.n.01'),\n",
       " Synset('mackinaw.n.03'),\n",
       " Synset('mailboat.n.01'),\n",
       " Synset('motorboat.n.01'),\n",
       " Synset('pilot_boat.n.01'),\n",
       " Synset('police_boat.n.01'),\n",
       " Synset('punt.n.02'),\n",
       " Synset('river_boat.n.01'),\n",
       " Synset('scow.n.01'),\n",
       " Synset('sea_boat.n.01'),\n",
       " Synset('small_boat.n.01'),\n",
       " Synset('steamboat.n.01'),\n",
       " Synset('surfboat.n.01'),\n",
       " Synset('tender.n.05'),\n",
       " Synset('tugboat.n.01')]"
      ]
     },
     "execution_count": 109,
     "metadata": {},
     "output_type": "execute_result"
    }
   ],
   "source": [
    "# ok \n",
    "concept = wn.synset('boat.n.01')\n",
    "concept.hyponyms()"
   ]
  },
  {
   "cell_type": "code",
   "execution_count": 120,
   "metadata": {},
   "outputs": [
    {
     "data": {
      "text/plain": [
       "[Synset('collection.n.01')]"
      ]
     },
     "execution_count": 120,
     "metadata": {},
     "output_type": "execute_result"
    }
   ],
   "source": [
    "concept = wn.synset('content.n.01')\n",
    "concept.hypernyms()"
   ]
  },
  {
   "cell_type": "code",
   "execution_count": 118,
   "metadata": {},
   "outputs": [
    {
     "data": {
      "text/plain": [
       "[Synset('autotelism.n.01'),\n",
       " Synset('conviction.n.01'),\n",
       " Synset('doctrine.n.01'),\n",
       " Synset('expectation.n.01'),\n",
       " Synset('faith.n.02'),\n",
       " Synset('fetishism.n.01'),\n",
       " Synset('geneticism.n.01'),\n",
       " Synset('individualism.n.02'),\n",
       " Synset('meliorism.n.01'),\n",
       " Synset('opinion.n.01'),\n",
       " Synset('originalism.n.01'),\n",
       " Synset('pacifism.n.02'),\n",
       " Synset('philosophy.n.03'),\n",
       " Synset('public_opinion.n.01'),\n",
       " Synset('religion.n.01'),\n",
       " Synset('revolutionism.n.01'),\n",
       " Synset('sacerdotalism.n.01'),\n",
       " Synset('spiritual_being.n.01'),\n",
       " Synset('spiritual_world.n.01'),\n",
       " Synset('spiritualism.n.02'),\n",
       " Synset('suffragism.n.01'),\n",
       " Synset('supernaturalism.n.01'),\n",
       " Synset('superstition.n.01'),\n",
       " Synset('supremacism.n.01'),\n",
       " Synset('theory.n.03'),\n",
       " Synset('theosophism.n.01'),\n",
       " Synset('thought.n.03'),\n",
       " Synset('totemism.n.01'),\n",
       " Synset('tribalism.n.02'),\n",
       " Synset('values.n.01'),\n",
       " Synset('vampirism.n.01')]"
      ]
     },
     "execution_count": 118,
     "metadata": {},
     "output_type": "execute_result"
    }
   ],
   "source": [
    "# good\n",
    "concept = wn.synset('belief.n.01')\n",
    "concept.hyponyms()"
   ]
  },
  {
   "cell_type": "code",
   "execution_count": null,
   "metadata": {},
   "outputs": [],
   "source": [
    "# good\n",
    "concept = wn.synset('belief.n.01')\n",
    "concept.hyponyms()"
   ]
  }
 ],
 "metadata": {
  "kernelspec": {
   "display_name": "Python 3",
   "language": "python",
   "name": "python3"
  },
  "language_info": {
   "codemirror_mode": {
    "name": "ipython",
    "version": 3
   },
   "file_extension": ".py",
   "mimetype": "text/x-python",
   "name": "python",
   "nbconvert_exporter": "python",
   "pygments_lexer": "ipython3",
   "version": "3.6.5"
  }
 },
 "nbformat": 4,
 "nbformat_minor": 2
}
